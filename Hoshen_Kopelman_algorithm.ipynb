{
 "cells": [
  {
   "cell_type": "code",
   "execution_count": 1,
   "id": "0783fffd",
   "metadata": {},
   "outputs": [
    {
     "data": {
      "text/plain": [
       "<matplotlib.image.AxesImage at 0x7860bb7ca2a0>"
      ]
     },
     "execution_count": 1,
     "metadata": {},
     "output_type": "execute_result"
    },
    {
     "data": {
      "image/png": "[encoded data removed]",
      "text/plain": [
       "<Figure size 640x480 with 1 Axes>"
      ]
     },
     "metadata": {},
     "output_type": "display_data"
    }
   ],
   "source": [
    "from matplotlib import pyplot as plt\n",
    "import torch\n",
    "\n",
    "@torch.compile\n",
    "def find(x, labels):\n",
    "    while torch.any(labels[x] != x):\n",
    "        labels[x] = labels[labels[x]]  # path compression\n",
    "        x = labels[x]\n",
    "    return x.clone()\n",
    "\n",
    "def union(x,y,labels):\n",
    "    ind = find(x,labels)\n",
    "    labels[ind]=find(y,labels)\n",
    "    \n",
    "def hoshen_kopelman(data):\n",
    "    label = torch.zeros_like(data,dtype=torch.int32)\n",
    "    largest_label = 0\n",
    "    rows,cols = data.shape\n",
    "    union_find_label = torch.arange(rows*cols,dtype=torch.int32)\n",
    "    for x in range(rows):\n",
    "        for y in range(cols):\n",
    "            if data[x,y]==0: continue\n",
    "            # one way is to make circular check\n",
    "            left = label[(x-1)%rows,y]\n",
    "            above = label[x,(y-1)%cols]\n",
    "        \n",
    "            #another way is to make bounded check\n",
    "            # left = 0 if x-1<0 else label[x-1,y]\n",
    "            # above = 0 if y-1<0 else label[x,y-1]\n",
    "            \n",
    "            if left==0 and above==0:\n",
    "                largest_label+=1\n",
    "                label[x,y]=largest_label\n",
    "            elif left!=0 and above==0:\n",
    "                label[x,y]=find(left,union_find_label)\n",
    "            elif left==0 and above!=0:\n",
    "                label[x,y]=find(above,union_find_label)\n",
    "            else:\n",
    "                union(left,above,union_find_label)\n",
    "                label[x,y] = find(min(left,above),union_find_label)\n",
    "    \n",
    "    mask = data!=0\n",
    "    label[mask]=find(label[mask],union_find_label)\n",
    "    return label\n",
    "\n",
    "data = 1*(torch.rand((10,10))>0.4)\n",
    "clusters = hoshen_kopelman(data)\n",
    "\n",
    "plt.imshow(clusters,cmap='tab20')"
   ]
  }
 ],
 "metadata": {
  "kernelspec": {
   "display_name": "venv",
   "language": "python",
   "name": "python3"
  },
  "language_info": {
   "codemirror_mode": {
    "name": "ipython",
    "version": 3
   },
   "file_extension": ".py",
   "mimetype": "text/x-python",
   "name": "python",
   "nbconvert_exporter": "python",
   "pygments_lexer": "ipython3",
   "version": "3.12.3"
  }
 },
 "nbformat": 4,
 "nbformat_minor": 5
}
