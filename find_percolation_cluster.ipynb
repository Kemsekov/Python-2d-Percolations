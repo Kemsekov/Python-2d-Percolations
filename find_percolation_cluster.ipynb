{
 "cells": [
  {
   "cell_type": "code",
   "execution_count": 4,
   "id": "200103ad",
   "metadata": {},
   "outputs": [
    {
     "data": {
      "text/plain": [
       "([-1], [tensor(995)])"
      ]
     },
     "execution_count": 4,
     "metadata": {},
     "output_type": "execute_result"
    }
   ],
   "source": [
    "import torch\n",
    "from common import find_clusters_bounded, get_percolation_clusters\n",
    "\n",
    "N=50\n",
    "X = torch.rand((N,N))>0.4\n",
    "clusters = find_clusters_bounded(X,'cpu')\n",
    "get_percolation_clusters(clusters)"
   ]
  }
 ],
 "metadata": {
  "kernelspec": {
   "display_name": "venv",
   "language": "python",
   "name": "python3"
  },
  "language_info": {
   "codemirror_mode": {
    "name": "ipython",
    "version": 3
   },
   "file_extension": ".py",
   "mimetype": "text/x-python",
   "name": "python",
   "nbconvert_exporter": "python",
   "pygments_lexer": "ipython3",
   "version": "3.12.3"
  }
 },
 "nbformat": 4,
 "nbformat_minor": 5
}
